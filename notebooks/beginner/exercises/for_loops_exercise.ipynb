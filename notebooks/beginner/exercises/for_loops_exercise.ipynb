{
 "cells": [
  {
   "cell_type": "markdown",
   "metadata": {},
   "source": [
    "# 1. Fill the missing pieces\n",
    "Fill the `____` parts in the code below."
   ]
  },
  {
   "cell_type": "code",
   "execution_count": 2,
   "metadata": {},
   "outputs": [],
   "source": [
    "words = ['PYTHON', 'JOHN', 'chEEse', 'hAm', 'DOE', '123']\n",
    "upper_case_words = []\n",
    "\n",
    "for word in words:\n",
    "    if word.isupper():\n",
    "        upper_case_words.append(word)"
   ]
  },
  {
   "cell_type": "code",
   "execution_count": 3,
   "metadata": {
    "editable": false
   },
   "outputs": [],
   "source": [
    "assert upper_case_words == ['PYTHON', 'JOHN', 'DOE']"
   ]
  },
  {
   "cell_type": "markdown",
   "metadata": {},
   "source": [
    "# 2. Calculate the sum of dict values\n",
    "Calculate the sum of the values in `magic_dict` by taking only into account numeric values (hint: see [isinstance](https://docs.python.org/3/library/functions.html#isinstance)). "
   ]
  },
  {
   "cell_type": "code",
   "execution_count": 4,
   "metadata": {
    "editable": false
   },
   "outputs": [],
   "source": [
    "magic_dict = dict(val1=44, val2='secret value', val3=55.0, val4=1)"
   ]
  },
  {
   "cell_type": "code",
   "execution_count": 6,
   "metadata": {},
   "outputs": [
    {
     "ename": "TypeError",
     "evalue": "unsupported operand type(s) for +: 'int' and 'str'",
     "output_type": "error",
     "traceback": [
      "\u001b[1;31m---------------------------------------------------------------------------\u001b[0m",
      "\u001b[1;31mTypeError\u001b[0m                                 Traceback (most recent call last)",
      "\u001b[1;32mc:\\Users\\Hiddane\\Desktop\\learn-python3\\notebooks\\beginner\\exercises\\for_loops_exercise.ipynb Cell 6'\u001b[0m in \u001b[0;36m<cell line: 2>\u001b[1;34m()\u001b[0m\n\u001b[0;32m      <a href='vscode-notebook-cell:/c%3A/Users/Hiddane/Desktop/learn-python3/notebooks/beginner/exercises/for_loops_exercise.ipynb#ch0000005?line=0'>1</a>\u001b[0m \u001b[39m# Your implementation\u001b[39;00m\n\u001b[1;32m----> <a href='vscode-notebook-cell:/c%3A/Users/Hiddane/Desktop/learn-python3/notebooks/beginner/exercises/for_loops_exercise.ipynb#ch0000005?line=1'>2</a>\u001b[0m sum_of_values \u001b[39m=\u001b[39m \u001b[39msum\u001b[39;49m(magic_dict\u001b[39m.\u001b[39;49mvalues())\n",
      "\u001b[1;31mTypeError\u001b[0m: unsupported operand type(s) for +: 'int' and 'str'"
     ]
    }
   ],
   "source": [
    "# Your implementation\n",
    "sum_of_values = sum(magic_dict.values())"
   ]
  },
  {
   "cell_type": "code",
   "execution_count": null,
   "metadata": {
    "editable": false
   },
   "outputs": [],
   "source": [
    "assert sum_of_values == 100"
   ]
  },
  {
   "cell_type": "markdown",
   "metadata": {},
   "source": [
    "# 3. Create a list of strings based on a list of numbers\n",
    "The rules:\n",
    "* If the number is a multiple of five and odd, the string should be `'five odd'`\n",
    "* If the number is a multiple of five and even, the string should be `'five even'`\n",
    "* If the number is odd, the string is `'odd'`\n",
    "* If the number is even, the string is `'even'`"
   ]
  },
  {
   "cell_type": "code",
   "execution_count": null,
   "metadata": {
    "editable": false
   },
   "outputs": [],
   "source": [
    "numbers = [1, 3, 4, 6, 81, 80, 100, 95]"
   ]
  },
  {
   "cell_type": "code",
   "execution_count": null,
   "metadata": {},
   "outputs": [],
   "source": [
    "# Your implementation\n",
    "my_list = "
   ]
  },
  {
   "cell_type": "code",
   "execution_count": null,
   "metadata": {
    "editable": false
   },
   "outputs": [],
   "source": [
    "assert my_list == ['odd', 'odd', 'even', 'even', 'odd', 'five even', 'five even', 'five odd']"
   ]
  }
 ],
 "metadata": {
  "kernelspec": {
   "display_name": "Python 3.10.4 64-bit",
   "language": "python",
   "name": "python3"
  },
  "language_info": {
   "codemirror_mode": {
    "name": "ipython",
    "version": 3
   },
   "file_extension": ".py",
   "mimetype": "text/x-python",
   "name": "python",
   "nbconvert_exporter": "python",
   "pygments_lexer": "ipython3",
   "version": "3.10.4"
  },
  "vscode": {
   "interpreter": {
    "hash": "bf7d1fd0f4df9a0507a76c817aa76dcca39b7b4cdf3bffe2c7418d2abb24337b"
   }
  }
 },
 "nbformat": 4,
 "nbformat_minor": 2
}
